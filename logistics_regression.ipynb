{
 "cells": [
  {
   "cell_type": "code",
   "execution_count": null,
   "id": "4c932c0a",
   "metadata": {},
   "outputs": [],
   "source": [
    "import numpy as np\n",
    "import matplotlib.pyplot as plt\n",
    "from  sklearn.model_selection import train_test_split\n",
    "from sklearn.linear_model import LogisticRegression\n",
    "from sklearn.metrics import accuracy_score, confusion_matrix, classification_report\n",
    "\n",
    "\n",
    "X= np.array([1,2,3,4,5,6,7,8,9,10]).reshape(-1,1)\n",
    "Y= np.array([0,0,0,0,1,1,1,1,1,1])\n",
    "\n",
    "X_train, X_test, Y_train, Y_test= train_test_split(X,Y, test_size=0.2, random_state=42)\n",
    "\n",
    "model= LogisticRegression()\n",
    "model.fit(X_train, Y_train)\n",
    "\n",
    "y_pred= model.predict(X_test)\n",
    "print(\"Predictions:\", y_pred)\n",
    "\n",
    "print(\"Accuracy:\", accuracy_score(Y_test, y_pred))\n",
    "print(\"Confusion Matrix:\\n\", confusion_matrix(Y_test, y_pred))\n",
    "print(\"Classification Report:\\n\", classification_report(Y_test, y_pred))\n",
    "\n",
    "plt.scatter(X,Y, color='blue', label='Actual')\n",
    "plt.plot(X_test, model.predict_proba(X_test)[:,1], color='red', label='predicted_probability')\n",
    "plt.xlabel('Study Hours')\n",
    "plt.ylabel('Probabilty of Passing')\n",
    "plt.grid(True)\n",
    "plt.show()"
   ]
  },
  {
   "cell_type": "code",
   "execution_count": null,
   "metadata": {},
   "outputs": [],
   "source": []
  }
 ],
 "metadata": {
  "kernelspec": {
   "display_name": "Python 3",
   "language": "python",
   "name": "python3"
  },
  "language_info": {
   "codemirror_mode": {
    "name": "ipython",
    "version": 3
   },
   "file_extension": ".py",
   "mimetype": "text/x-python",
   "name": "python",
   "nbconvert_exporter": "python",
   "pygments_lexer": "ipython3",
   "version": "3.13.2"
  }
 },
 "nbformat": 4,
 "nbformat_minor": 5
}
