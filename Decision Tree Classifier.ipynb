{
 "cells": [
  {
   "cell_type": "code",
   "execution_count": null,
   "id": "42cac42b",
   "metadata": {},
   "outputs": [],
   "source": [
    "import numpy as np\n",
    "import matplotlib.pyplot as plt\n",
    "from sklearn.tree import DecisionTreeClassifier, plot_tree\n",
    "from sklearn.model_selection import train_test_split\n",
    "from sklearn.metrics import accuracy_score\n",
    "\n",
    "X=np.array([[1],[2],[3],[4],[5],[6],[7],[8],[9],[10]])\n",
    "Y= np.array([0,0,0,0,0,1,1,1,1,1])\n",
    "\n",
    "X_train, X_test, Y_train, Y_test= train_test_split(X, Y, test_size=0.3, random_state=42)\n",
    "model=DecisionTreeClassifier(criterion='log_loss', random_state=42)\n",
    "model.fit(X_train, Y_train)\n",
    "\n",
    "\n",
    "y_pred= model.predict(X_test)\n",
    "print(\"Accuracy:\", accuracy_score(Y_test, y_pred))\n",
    "print(\"Predictions:\", y_pred)\n",
    "\n",
    "plt.figure(figsize=(8,5))\n",
    "plot_tree(model, feature_names=['Study Hours'], class_names=['Fail', 'Pass'], filled=True)\n",
    "plt.show()"
   ]
  }
 ],
 "metadata": {
  "kernelspec": {
   "display_name": "Python 3",
   "language": "python",
   "name": "python3"
  },
  "language_info": {
   "codemirror_mode": {
    "name": "ipython",
    "version": 3
   },
   "file_extension": ".py",
   "mimetype": "text/x-python",
   "name": "python",
   "nbconvert_exporter": "python",
   "pygments_lexer": "ipython3",
   "version": "3.13.2"
  }
 },
 "nbformat": 4,
 "nbformat_minor": 5
}
